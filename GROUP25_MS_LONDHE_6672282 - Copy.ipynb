{
 "cells": [
  {
   "cell_type": "markdown",
   "id": "6bc91c3c",
   "metadata": {},
   "source": [
    "# GROUP 25\n",
    "\n",
    "#### Manoj Sanjay Londhe - ml01586 - 6672282"
   ]
  },
  {
   "cell_type": "markdown",
   "id": "7bde9828",
   "metadata": {},
   "source": [
    "# Consumer Complaints Classification"
   ]
  },
  {
   "cell_type": "markdown",
   "id": "54a59235",
   "metadata": {},
   "source": [
    "#### The dataset is Consumer Complaints on Financial products , and we'll look at how to group customer complaints text into these categories: Consumer loans, mortgages, credit cards, credit reporting, student loans, bank accounts or services, payday loans, money transfers, other banking services, prepaid cards and debt collection."
   ]
  },
  {
   "cell_type": "markdown",
   "id": "dcf70d62",
   "metadata": {},
   "source": [
    "#### We have performed initial analysis using text data performed text pre-processing steps such as Text Standardization,Removing Stopwords,Lemmatization.\n",
    "#### Utilized SVM ,Logistic Regression, and CNN models to classify text data into 11 categories."
   ]
  },
  {
   "cell_type": "code",
   "execution_count": 42,
   "id": "b01d5b54",
   "metadata": {},
   "outputs": [
    {
     "name": "stdout",
     "output_type": "stream",
     "text": [
      "Collecting sklearn\n",
      "  Using cached sklearn-0.0.tar.gz (1.1 kB)\n",
      "Collecting scikit-learn\n",
      "  Downloading scikit_learn-0.24.2-cp37-cp37m-win_amd64.whl (6.8 MB)\n",
      "Requirement already satisfied: numpy>=1.13.3 in c:\\users\\hitesh\\anaconda3\\envs\\concomplaints\\lib\\site-packages (from scikit-learn->sklearn) (1.20.3)\n",
      "Collecting threadpoolctl>=2.0.0\n",
      "  Using cached threadpoolctl-2.1.0-py3-none-any.whl (12 kB)\n",
      "Requirement already satisfied: scipy>=0.19.1 in c:\\users\\hitesh\\anaconda3\\envs\\concomplaints\\lib\\site-packages (from scikit-learn->sklearn) (1.6.3)\n",
      "Requirement already satisfied: joblib>=0.11 in c:\\users\\hitesh\\anaconda3\\envs\\concomplaints\\lib\\site-packages (from scikit-learn->sklearn) (1.0.1)\n",
      "Building wheels for collected packages: sklearn\n",
      "  Building wheel for sklearn (setup.py): started\n",
      "  Building wheel for sklearn (setup.py): finished with status 'done'\n",
      "  Created wheel for sklearn: filename=sklearn-0.0-py2.py3-none-any.whl size=1316 sha256=816e1d1c1f9b96e7f28bb0c0cec4b4b2de1d9d10ccd6e1253cbe0a1b40c7bc54\n",
      "  Stored in directory: c:\\users\\hitesh\\appdata\\local\\pip\\cache\\wheels\\46\\ef\\c3\\157e41f5ee1372d1be90b09f74f82b10e391eaacca8f22d33e\n",
      "Successfully built sklearn\n",
      "Installing collected packages: threadpoolctl, scikit-learn, sklearn\n",
      "Successfully installed scikit-learn-0.24.2 sklearn-0.0 threadpoolctl-2.1.0\n"
     ]
    }
   ],
   "source": [
    "!pip install sklearn"
   ]
  },
  {
   "cell_type": "code",
   "execution_count": 2,
   "id": "b3b85ba6",
   "metadata": {},
   "outputs": [],
   "source": [
    "import numpy as np\n",
    "import pandas as pd\n",
    "\n",
    "#to ignore warnings\n",
    "import warnings\n",
    "warnings.filterwarnings(\"ignore\")\n"
   ]
  },
  {
   "cell_type": "code",
   "execution_count": 3,
   "id": "6764f036",
   "metadata": {},
   "outputs": [],
   "source": [
    "#path_file = \"consumer_complaints.csv\"\n",
    "df = pd.read_csv(\"consumer_complaints.csv\", engine='python')"
   ]
  },
  {
   "cell_type": "code",
   "execution_count": 4,
   "id": "3747ad61",
   "metadata": {},
   "outputs": [
    {
     "data": {
      "text/html": [
       "<div>\n",
       "<style scoped>\n",
       "    .dataframe tbody tr th:only-of-type {\n",
       "        vertical-align: middle;\n",
       "    }\n",
       "\n",
       "    .dataframe tbody tr th {\n",
       "        vertical-align: top;\n",
       "    }\n",
       "\n",
       "    .dataframe thead th {\n",
       "        text-align: right;\n",
       "    }\n",
       "</style>\n",
       "<table border=\"1\" class=\"dataframe\">\n",
       "  <thead>\n",
       "    <tr style=\"text-align: right;\">\n",
       "      <th></th>\n",
       "      <th>date_received</th>\n",
       "      <th>product</th>\n",
       "      <th>sub_product</th>\n",
       "      <th>issue</th>\n",
       "      <th>sub_issue</th>\n",
       "      <th>consumer_complaint_narrative</th>\n",
       "      <th>company_public_response</th>\n",
       "      <th>company</th>\n",
       "      <th>state</th>\n",
       "      <th>zipcode</th>\n",
       "      <th>tags</th>\n",
       "      <th>consumer_consent_provided</th>\n",
       "      <th>submitted_via</th>\n",
       "      <th>date_sent_to_company</th>\n",
       "      <th>company_response_to_consumer</th>\n",
       "      <th>timely_response</th>\n",
       "      <th>consumer_disputed?</th>\n",
       "      <th>complaint_id</th>\n",
       "    </tr>\n",
       "  </thead>\n",
       "  <tbody>\n",
       "    <tr>\n",
       "      <th>0</th>\n",
       "      <td>08/30/2013</td>\n",
       "      <td>Mortgage</td>\n",
       "      <td>Other mortgage</td>\n",
       "      <td>Loan modification,collection,foreclosure</td>\n",
       "      <td>NaN</td>\n",
       "      <td>NaN</td>\n",
       "      <td>NaN</td>\n",
       "      <td>U.S. Bancorp</td>\n",
       "      <td>CA</td>\n",
       "      <td>95993</td>\n",
       "      <td>NaN</td>\n",
       "      <td>NaN</td>\n",
       "      <td>Referral</td>\n",
       "      <td>09/03/2013</td>\n",
       "      <td>Closed with explanation</td>\n",
       "      <td>Yes</td>\n",
       "      <td>Yes</td>\n",
       "      <td>511074</td>\n",
       "    </tr>\n",
       "    <tr>\n",
       "      <th>1</th>\n",
       "      <td>08/30/2013</td>\n",
       "      <td>Mortgage</td>\n",
       "      <td>Other mortgage</td>\n",
       "      <td>Loan servicing, payments, escrow account</td>\n",
       "      <td>NaN</td>\n",
       "      <td>NaN</td>\n",
       "      <td>NaN</td>\n",
       "      <td>Wells Fargo &amp; Company</td>\n",
       "      <td>CA</td>\n",
       "      <td>91104</td>\n",
       "      <td>NaN</td>\n",
       "      <td>NaN</td>\n",
       "      <td>Referral</td>\n",
       "      <td>09/03/2013</td>\n",
       "      <td>Closed with explanation</td>\n",
       "      <td>Yes</td>\n",
       "      <td>Yes</td>\n",
       "      <td>511080</td>\n",
       "    </tr>\n",
       "    <tr>\n",
       "      <th>2</th>\n",
       "      <td>08/30/2013</td>\n",
       "      <td>Credit reporting</td>\n",
       "      <td>NaN</td>\n",
       "      <td>Incorrect information on credit report</td>\n",
       "      <td>Account status</td>\n",
       "      <td>NaN</td>\n",
       "      <td>NaN</td>\n",
       "      <td>Wells Fargo &amp; Company</td>\n",
       "      <td>NY</td>\n",
       "      <td>11764</td>\n",
       "      <td>NaN</td>\n",
       "      <td>NaN</td>\n",
       "      <td>Postal mail</td>\n",
       "      <td>09/18/2013</td>\n",
       "      <td>Closed with explanation</td>\n",
       "      <td>Yes</td>\n",
       "      <td>No</td>\n",
       "      <td>510473</td>\n",
       "    </tr>\n",
       "    <tr>\n",
       "      <th>3</th>\n",
       "      <td>08/30/2013</td>\n",
       "      <td>Student loan</td>\n",
       "      <td>Non-federal student loan</td>\n",
       "      <td>Repaying your loan</td>\n",
       "      <td>Repaying your loan</td>\n",
       "      <td>NaN</td>\n",
       "      <td>NaN</td>\n",
       "      <td>Navient Solutions, Inc.</td>\n",
       "      <td>MD</td>\n",
       "      <td>21402</td>\n",
       "      <td>NaN</td>\n",
       "      <td>NaN</td>\n",
       "      <td>Email</td>\n",
       "      <td>08/30/2013</td>\n",
       "      <td>Closed with explanation</td>\n",
       "      <td>Yes</td>\n",
       "      <td>Yes</td>\n",
       "      <td>510326</td>\n",
       "    </tr>\n",
       "    <tr>\n",
       "      <th>4</th>\n",
       "      <td>08/30/2013</td>\n",
       "      <td>Debt collection</td>\n",
       "      <td>Credit card</td>\n",
       "      <td>False statements or representation</td>\n",
       "      <td>Attempted to collect wrong amount</td>\n",
       "      <td>NaN</td>\n",
       "      <td>NaN</td>\n",
       "      <td>Resurgent Capital Services L.P.</td>\n",
       "      <td>GA</td>\n",
       "      <td>30106</td>\n",
       "      <td>NaN</td>\n",
       "      <td>NaN</td>\n",
       "      <td>Web</td>\n",
       "      <td>08/30/2013</td>\n",
       "      <td>Closed with explanation</td>\n",
       "      <td>Yes</td>\n",
       "      <td>Yes</td>\n",
       "      <td>511067</td>\n",
       "    </tr>\n",
       "  </tbody>\n",
       "</table>\n",
       "</div>"
      ],
      "text/plain": [
       "  date_received           product               sub_product  \\\n",
       "0    08/30/2013          Mortgage            Other mortgage   \n",
       "1    08/30/2013          Mortgage            Other mortgage   \n",
       "2    08/30/2013  Credit reporting                       NaN   \n",
       "3    08/30/2013      Student loan  Non-federal student loan   \n",
       "4    08/30/2013   Debt collection               Credit card   \n",
       "\n",
       "                                      issue  \\\n",
       "0  Loan modification,collection,foreclosure   \n",
       "1  Loan servicing, payments, escrow account   \n",
       "2    Incorrect information on credit report   \n",
       "3                        Repaying your loan   \n",
       "4        False statements or representation   \n",
       "\n",
       "                           sub_issue consumer_complaint_narrative  \\\n",
       "0                                NaN                          NaN   \n",
       "1                                NaN                          NaN   \n",
       "2                     Account status                          NaN   \n",
       "3                 Repaying your loan                          NaN   \n",
       "4  Attempted to collect wrong amount                          NaN   \n",
       "\n",
       "  company_public_response                          company state zipcode tags  \\\n",
       "0                     NaN                     U.S. Bancorp    CA   95993  NaN   \n",
       "1                     NaN            Wells Fargo & Company    CA   91104  NaN   \n",
       "2                     NaN            Wells Fargo & Company    NY   11764  NaN   \n",
       "3                     NaN          Navient Solutions, Inc.    MD   21402  NaN   \n",
       "4                     NaN  Resurgent Capital Services L.P.    GA   30106  NaN   \n",
       "\n",
       "  consumer_consent_provided submitted_via date_sent_to_company  \\\n",
       "0                       NaN      Referral           09/03/2013   \n",
       "1                       NaN      Referral           09/03/2013   \n",
       "2                       NaN   Postal mail           09/18/2013   \n",
       "3                       NaN         Email           08/30/2013   \n",
       "4                       NaN           Web           08/30/2013   \n",
       "\n",
       "  company_response_to_consumer timely_response consumer_disputed?  \\\n",
       "0      Closed with explanation             Yes                Yes   \n",
       "1      Closed with explanation             Yes                Yes   \n",
       "2      Closed with explanation             Yes                 No   \n",
       "3      Closed with explanation             Yes                Yes   \n",
       "4      Closed with explanation             Yes                Yes   \n",
       "\n",
       "   complaint_id  \n",
       "0        511074  \n",
       "1        511080  \n",
       "2        510473  \n",
       "3        510326  \n",
       "4        511067  "
      ]
     },
     "execution_count": 4,
     "metadata": {},
     "output_type": "execute_result"
    }
   ],
   "source": [
    "#printing first 5 rows in the dataset\n",
    "df.head()"
   ]
  },
  {
   "cell_type": "code",
   "execution_count": 5,
   "id": "eeaf3b3e",
   "metadata": {},
   "outputs": [
    {
     "data": {
      "text/plain": [
       "date_received                   object\n",
       "product                         object\n",
       "sub_product                     object\n",
       "issue                           object\n",
       "sub_issue                       object\n",
       "consumer_complaint_narrative    object\n",
       "company_public_response         object\n",
       "company                         object\n",
       "state                           object\n",
       "zipcode                         object\n",
       "tags                            object\n",
       "consumer_consent_provided       object\n",
       "submitted_via                   object\n",
       "date_sent_to_company            object\n",
       "company_response_to_consumer    object\n",
       "timely_response                 object\n",
       "consumer_disputed?              object\n",
       "complaint_id                     int64\n",
       "dtype: object"
      ]
     },
     "execution_count": 5,
     "metadata": {},
     "output_type": "execute_result"
    }
   ],
   "source": [
    "#checking the types of labels\n",
    "df.dtypes"
   ]
  },
  {
   "cell_type": "code",
   "execution_count": 6,
   "id": "1125a37b",
   "metadata": {},
   "outputs": [
    {
     "data": {
      "text/html": [
       "<div>\n",
       "<style scoped>\n",
       "    .dataframe tbody tr th:only-of-type {\n",
       "        vertical-align: middle;\n",
       "    }\n",
       "\n",
       "    .dataframe tbody tr th {\n",
       "        vertical-align: top;\n",
       "    }\n",
       "\n",
       "    .dataframe thead th {\n",
       "        text-align: right;\n",
       "    }\n",
       "</style>\n",
       "<table border=\"1\" class=\"dataframe\">\n",
       "  <thead>\n",
       "    <tr style=\"text-align: right;\">\n",
       "      <th></th>\n",
       "      <th>date_received</th>\n",
       "      <th>product</th>\n",
       "      <th>sub_product</th>\n",
       "      <th>issue</th>\n",
       "      <th>sub_issue</th>\n",
       "      <th>consumer_complaint_narrative</th>\n",
       "      <th>company_public_response</th>\n",
       "      <th>company</th>\n",
       "      <th>state</th>\n",
       "      <th>zipcode</th>\n",
       "      <th>tags</th>\n",
       "      <th>consumer_consent_provided</th>\n",
       "      <th>submitted_via</th>\n",
       "      <th>date_sent_to_company</th>\n",
       "      <th>company_response_to_consumer</th>\n",
       "      <th>timely_response</th>\n",
       "      <th>consumer_disputed?</th>\n",
       "      <th>complaint_id</th>\n",
       "    </tr>\n",
       "  </thead>\n",
       "  <tbody>\n",
       "    <tr>\n",
       "      <th>count</th>\n",
       "      <td>555957</td>\n",
       "      <td>555957</td>\n",
       "      <td>397635</td>\n",
       "      <td>555957</td>\n",
       "      <td>212622</td>\n",
       "      <td>66806</td>\n",
       "      <td>85124</td>\n",
       "      <td>555957</td>\n",
       "      <td>551070</td>\n",
       "      <td>551452</td>\n",
       "      <td>77959</td>\n",
       "      <td>123458</td>\n",
       "      <td>555957</td>\n",
       "      <td>555957</td>\n",
       "      <td>555957</td>\n",
       "      <td>555957</td>\n",
       "      <td>555957</td>\n",
       "      <td>5.559570e+05</td>\n",
       "    </tr>\n",
       "    <tr>\n",
       "      <th>unique</th>\n",
       "      <td>1608</td>\n",
       "      <td>11</td>\n",
       "      <td>46</td>\n",
       "      <td>95</td>\n",
       "      <td>68</td>\n",
       "      <td>65646</td>\n",
       "      <td>10</td>\n",
       "      <td>3605</td>\n",
       "      <td>62</td>\n",
       "      <td>27052</td>\n",
       "      <td>3</td>\n",
       "      <td>4</td>\n",
       "      <td>6</td>\n",
       "      <td>1557</td>\n",
       "      <td>8</td>\n",
       "      <td>2</td>\n",
       "      <td>2</td>\n",
       "      <td>NaN</td>\n",
       "    </tr>\n",
       "    <tr>\n",
       "      <th>top</th>\n",
       "      <td>08/27/2015</td>\n",
       "      <td>Mortgage</td>\n",
       "      <td>Other mortgage</td>\n",
       "      <td>Loan modification,collection,foreclosure</td>\n",
       "      <td>Account status</td>\n",
       "      <td>This company continues to report on my credit ...</td>\n",
       "      <td>Company chooses not to provide a public response</td>\n",
       "      <td>Bank of America</td>\n",
       "      <td>CA</td>\n",
       "      <td>300XX</td>\n",
       "      <td>Older American</td>\n",
       "      <td>Consent provided</td>\n",
       "      <td>Web</td>\n",
       "      <td>11/13/2015</td>\n",
       "      <td>Closed with explanation</td>\n",
       "      <td>Yes</td>\n",
       "      <td>No</td>\n",
       "      <td>NaN</td>\n",
       "    </tr>\n",
       "    <tr>\n",
       "      <th>freq</th>\n",
       "      <td>963</td>\n",
       "      <td>186475</td>\n",
       "      <td>74319</td>\n",
       "      <td>97191</td>\n",
       "      <td>26798</td>\n",
       "      <td>37</td>\n",
       "      <td>52478</td>\n",
       "      <td>55998</td>\n",
       "      <td>81700</td>\n",
       "      <td>1205</td>\n",
       "      <td>45257</td>\n",
       "      <td>66807</td>\n",
       "      <td>361338</td>\n",
       "      <td>1108</td>\n",
       "      <td>404293</td>\n",
       "      <td>541909</td>\n",
       "      <td>443823</td>\n",
       "      <td>NaN</td>\n",
       "    </tr>\n",
       "    <tr>\n",
       "      <th>mean</th>\n",
       "      <td>NaN</td>\n",
       "      <td>NaN</td>\n",
       "      <td>NaN</td>\n",
       "      <td>NaN</td>\n",
       "      <td>NaN</td>\n",
       "      <td>NaN</td>\n",
       "      <td>NaN</td>\n",
       "      <td>NaN</td>\n",
       "      <td>NaN</td>\n",
       "      <td>NaN</td>\n",
       "      <td>NaN</td>\n",
       "      <td>NaN</td>\n",
       "      <td>NaN</td>\n",
       "      <td>NaN</td>\n",
       "      <td>NaN</td>\n",
       "      <td>NaN</td>\n",
       "      <td>NaN</td>\n",
       "      <td>9.600510e+05</td>\n",
       "    </tr>\n",
       "    <tr>\n",
       "      <th>std</th>\n",
       "      <td>NaN</td>\n",
       "      <td>NaN</td>\n",
       "      <td>NaN</td>\n",
       "      <td>NaN</td>\n",
       "      <td>NaN</td>\n",
       "      <td>NaN</td>\n",
       "      <td>NaN</td>\n",
       "      <td>NaN</td>\n",
       "      <td>NaN</td>\n",
       "      <td>NaN</td>\n",
       "      <td>NaN</td>\n",
       "      <td>NaN</td>\n",
       "      <td>NaN</td>\n",
       "      <td>NaN</td>\n",
       "      <td>NaN</td>\n",
       "      <td>NaN</td>\n",
       "      <td>NaN</td>\n",
       "      <td>5.504296e+05</td>\n",
       "    </tr>\n",
       "    <tr>\n",
       "      <th>min</th>\n",
       "      <td>NaN</td>\n",
       "      <td>NaN</td>\n",
       "      <td>NaN</td>\n",
       "      <td>NaN</td>\n",
       "      <td>NaN</td>\n",
       "      <td>NaN</td>\n",
       "      <td>NaN</td>\n",
       "      <td>NaN</td>\n",
       "      <td>NaN</td>\n",
       "      <td>NaN</td>\n",
       "      <td>NaN</td>\n",
       "      <td>NaN</td>\n",
       "      <td>NaN</td>\n",
       "      <td>NaN</td>\n",
       "      <td>NaN</td>\n",
       "      <td>NaN</td>\n",
       "      <td>NaN</td>\n",
       "      <td>1.000000e+00</td>\n",
       "    </tr>\n",
       "    <tr>\n",
       "      <th>25%</th>\n",
       "      <td>NaN</td>\n",
       "      <td>NaN</td>\n",
       "      <td>NaN</td>\n",
       "      <td>NaN</td>\n",
       "      <td>NaN</td>\n",
       "      <td>NaN</td>\n",
       "      <td>NaN</td>\n",
       "      <td>NaN</td>\n",
       "      <td>NaN</td>\n",
       "      <td>NaN</td>\n",
       "      <td>NaN</td>\n",
       "      <td>NaN</td>\n",
       "      <td>NaN</td>\n",
       "      <td>NaN</td>\n",
       "      <td>NaN</td>\n",
       "      <td>NaN</td>\n",
       "      <td>NaN</td>\n",
       "      <td>4.863230e+05</td>\n",
       "    </tr>\n",
       "    <tr>\n",
       "      <th>50%</th>\n",
       "      <td>NaN</td>\n",
       "      <td>NaN</td>\n",
       "      <td>NaN</td>\n",
       "      <td>NaN</td>\n",
       "      <td>NaN</td>\n",
       "      <td>NaN</td>\n",
       "      <td>NaN</td>\n",
       "      <td>NaN</td>\n",
       "      <td>NaN</td>\n",
       "      <td>NaN</td>\n",
       "      <td>NaN</td>\n",
       "      <td>NaN</td>\n",
       "      <td>NaN</td>\n",
       "      <td>NaN</td>\n",
       "      <td>NaN</td>\n",
       "      <td>NaN</td>\n",
       "      <td>NaN</td>\n",
       "      <td>9.737830e+05</td>\n",
       "    </tr>\n",
       "    <tr>\n",
       "      <th>75%</th>\n",
       "      <td>NaN</td>\n",
       "      <td>NaN</td>\n",
       "      <td>NaN</td>\n",
       "      <td>NaN</td>\n",
       "      <td>NaN</td>\n",
       "      <td>NaN</td>\n",
       "      <td>NaN</td>\n",
       "      <td>NaN</td>\n",
       "      <td>NaN</td>\n",
       "      <td>NaN</td>\n",
       "      <td>NaN</td>\n",
       "      <td>NaN</td>\n",
       "      <td>NaN</td>\n",
       "      <td>NaN</td>\n",
       "      <td>NaN</td>\n",
       "      <td>NaN</td>\n",
       "      <td>NaN</td>\n",
       "      <td>1.441702e+06</td>\n",
       "    </tr>\n",
       "    <tr>\n",
       "      <th>max</th>\n",
       "      <td>NaN</td>\n",
       "      <td>NaN</td>\n",
       "      <td>NaN</td>\n",
       "      <td>NaN</td>\n",
       "      <td>NaN</td>\n",
       "      <td>NaN</td>\n",
       "      <td>NaN</td>\n",
       "      <td>NaN</td>\n",
       "      <td>NaN</td>\n",
       "      <td>NaN</td>\n",
       "      <td>NaN</td>\n",
       "      <td>NaN</td>\n",
       "      <td>NaN</td>\n",
       "      <td>NaN</td>\n",
       "      <td>NaN</td>\n",
       "      <td>NaN</td>\n",
       "      <td>NaN</td>\n",
       "      <td>1.895894e+06</td>\n",
       "    </tr>\n",
       "  </tbody>\n",
       "</table>\n",
       "</div>"
      ],
      "text/plain": [
       "       date_received   product     sub_product  \\\n",
       "count         555957    555957          397635   \n",
       "unique          1608        11              46   \n",
       "top       08/27/2015  Mortgage  Other mortgage   \n",
       "freq             963    186475           74319   \n",
       "mean             NaN       NaN             NaN   \n",
       "std              NaN       NaN             NaN   \n",
       "min              NaN       NaN             NaN   \n",
       "25%              NaN       NaN             NaN   \n",
       "50%              NaN       NaN             NaN   \n",
       "75%              NaN       NaN             NaN   \n",
       "max              NaN       NaN             NaN   \n",
       "\n",
       "                                           issue       sub_issue  \\\n",
       "count                                     555957          212622   \n",
       "unique                                        95              68   \n",
       "top     Loan modification,collection,foreclosure  Account status   \n",
       "freq                                       97191           26798   \n",
       "mean                                         NaN             NaN   \n",
       "std                                          NaN             NaN   \n",
       "min                                          NaN             NaN   \n",
       "25%                                          NaN             NaN   \n",
       "50%                                          NaN             NaN   \n",
       "75%                                          NaN             NaN   \n",
       "max                                          NaN             NaN   \n",
       "\n",
       "                             consumer_complaint_narrative  \\\n",
       "count                                               66806   \n",
       "unique                                              65646   \n",
       "top     This company continues to report on my credit ...   \n",
       "freq                                                   37   \n",
       "mean                                                  NaN   \n",
       "std                                                   NaN   \n",
       "min                                                   NaN   \n",
       "25%                                                   NaN   \n",
       "50%                                                   NaN   \n",
       "75%                                                   NaN   \n",
       "max                                                   NaN   \n",
       "\n",
       "                                 company_public_response          company  \\\n",
       "count                                              85124           555957   \n",
       "unique                                                10             3605   \n",
       "top     Company chooses not to provide a public response  Bank of America   \n",
       "freq                                               52478            55998   \n",
       "mean                                                 NaN              NaN   \n",
       "std                                                  NaN              NaN   \n",
       "min                                                  NaN              NaN   \n",
       "25%                                                  NaN              NaN   \n",
       "50%                                                  NaN              NaN   \n",
       "75%                                                  NaN              NaN   \n",
       "max                                                  NaN              NaN   \n",
       "\n",
       "         state zipcode            tags consumer_consent_provided  \\\n",
       "count   551070  551452           77959                    123458   \n",
       "unique      62   27052               3                         4   \n",
       "top         CA   300XX  Older American          Consent provided   \n",
       "freq     81700    1205           45257                     66807   \n",
       "mean       NaN     NaN             NaN                       NaN   \n",
       "std        NaN     NaN             NaN                       NaN   \n",
       "min        NaN     NaN             NaN                       NaN   \n",
       "25%        NaN     NaN             NaN                       NaN   \n",
       "50%        NaN     NaN             NaN                       NaN   \n",
       "75%        NaN     NaN             NaN                       NaN   \n",
       "max        NaN     NaN             NaN                       NaN   \n",
       "\n",
       "       submitted_via date_sent_to_company company_response_to_consumer  \\\n",
       "count         555957               555957                       555957   \n",
       "unique             6                 1557                            8   \n",
       "top              Web           11/13/2015      Closed with explanation   \n",
       "freq          361338                 1108                       404293   \n",
       "mean             NaN                  NaN                          NaN   \n",
       "std              NaN                  NaN                          NaN   \n",
       "min              NaN                  NaN                          NaN   \n",
       "25%              NaN                  NaN                          NaN   \n",
       "50%              NaN                  NaN                          NaN   \n",
       "75%              NaN                  NaN                          NaN   \n",
       "max              NaN                  NaN                          NaN   \n",
       "\n",
       "       timely_response consumer_disputed?  complaint_id  \n",
       "count           555957             555957  5.559570e+05  \n",
       "unique               2                  2           NaN  \n",
       "top                Yes                 No           NaN  \n",
       "freq            541909             443823           NaN  \n",
       "mean               NaN                NaN  9.600510e+05  \n",
       "std                NaN                NaN  5.504296e+05  \n",
       "min                NaN                NaN  1.000000e+00  \n",
       "25%                NaN                NaN  4.863230e+05  \n",
       "50%                NaN                NaN  9.737830e+05  \n",
       "75%                NaN                NaN  1.441702e+06  \n",
       "max                NaN                NaN  1.895894e+06  "
      ]
     },
     "execution_count": 6,
     "metadata": {},
     "output_type": "execute_result"
    }
   ],
   "source": [
    "#generating descriptive statistics of the data set\n",
    "\n",
    "df.describe(include='all')"
   ]
  },
  {
   "cell_type": "markdown",
   "id": "7407f882",
   "metadata": {},
   "source": [
    "### Percentage of missing values in each column in the dataset\n"
   ]
  },
  {
   "cell_type": "code",
   "execution_count": 7,
   "id": "3a3f0363",
   "metadata": {},
   "outputs": [
    {
     "data": {
      "text/plain": [
       "date_received                    0.000000\n",
       "product                          0.000000\n",
       "sub_product                     28.477382\n",
       "issue                            0.000000\n",
       "sub_issue                       61.755675\n",
       "consumer_complaint_narrative    87.983603\n",
       "company_public_response         84.688744\n",
       "company                          0.000000\n",
       "state                            0.879025\n",
       "zipcode                          0.810314\n",
       "tags                            85.977513\n",
       "consumer_consent_provided       77.793606\n",
       "submitted_via                    0.000000\n",
       "date_sent_to_company             0.000000\n",
       "company_response_to_consumer     0.000000\n",
       "timely_response                  0.000000\n",
       "consumer_disputed?               0.000000\n",
       "complaint_id                     0.000000\n",
       "dtype: float64"
      ]
     },
     "execution_count": 7,
     "metadata": {},
     "output_type": "execute_result"
    }
   ],
   "source": [
    "df.isnull().sum()/df.shape[0]*100"
   ]
  },
  {
   "cell_type": "code",
   "execution_count": 8,
   "id": "f1bf3765",
   "metadata": {},
   "outputs": [],
   "source": [
    "#created new variable df1 for col with least null values\n",
    "\n",
    "df1 = df[['complaint_id','date_received','product','issue','company','state','submitted_via','company_response_to_consumer','timely_response','consumer_disputed?','consumer_complaint_narrative']]"
   ]
  },
  {
   "cell_type": "code",
   "execution_count": 9,
   "id": "149e9cd5",
   "metadata": {},
   "outputs": [],
   "source": [
    "df1 = df1[pd.notnull(df1['consumer_complaint_narrative'])]"
   ]
  },
  {
   "cell_type": "markdown",
   "id": "9496cd3c",
   "metadata": {},
   "source": [
    "## Exploratory Data Analysis (EDA)"
   ]
  },
  {
   "cell_type": "markdown",
   "id": "92297e04",
   "metadata": {},
   "source": [
    "#### We'll check the disribution of complaints by product category to understand which product received maximum complaints and other products which rarely receive complaints."
   ]
  },
  {
   "cell_type": "code",
   "execution_count": 10,
   "id": "c0f621ce",
   "metadata": {},
   "outputs": [
    {
     "data": {
      "text/plain": [
       "<AxesSubplot:xlabel='product', ylabel='count'>"
      ]
     },
     "execution_count": 10,
     "metadata": {},
     "output_type": "execute_result"
    },
    {
     "data": {
      "image/png": "[encoded data removed]",
      "text/plain": [
       "<Figure size 1296x432 with 1 Axes>"
      ]
     },
     "metadata": {
      "needs_background": "light"
     },
     "output_type": "display_data"
    }
   ],
   "source": [
    "#used seaborn and matplot to generta plot\n",
    "\n",
    "import seaborn as sns\n",
    "import matplotlib.pyplot as plt\n",
    "\n",
    "fig,ax = plt.subplots(figsize=(18,6))\n",
    "sns.countplot(x='product',data=df1)"
   ]
  },
  {
   "cell_type": "markdown",
   "id": "7a0f26be",
   "metadata": {},
   "source": [
    "#### From this plot we can see Debt Collection, Mortgage, and credit reporting received maximum number of complaints."
   ]
  },
  {
   "cell_type": "markdown",
   "id": "89ff8d74",
   "metadata": {},
   "source": [
    "#### We’ll now analyze the contingency table in form of plot to understand which product has more customer disputes on their complaints after resolving the issues."
   ]
  },
  {
   "cell_type": "code",
   "execution_count": 11,
   "id": "93292685",
   "metadata": {},
   "outputs": [
    {
     "data": {
      "text/plain": [
       "<AxesSubplot:xlabel='product'>"
      ]
     },
     "execution_count": 11,
     "metadata": {},
     "output_type": "execute_result"
    },
    {
     "data": {
      "image/png": "[encoded data removed]",
      "text/plain": [
       "<Figure size 432x288 with 1 Axes>"
      ]
     },
     "metadata": {
      "needs_background": "light"
     },
     "output_type": "display_data"
    }
   ],
   "source": [
    "#plotted graph to check the customer disputed\n",
    "\n",
    "pd.crosstab(df1['product'],df1['consumer_disputed?']).plot(kind='bar')"
   ]
  },
  {
   "cell_type": "markdown",
   "id": "f53afde0",
   "metadata": {},
   "source": [
    "#### From above graph we can see that there is not much of difference in proportion of disputes raised by complaint for each product category.\n",
    "#### So checking for other plots to recognize patterns within data."
   ]
  },
  {
   "cell_type": "markdown",
   "id": "82728967",
   "metadata": {},
   "source": [
    "#### "
   ]
  },
  {
   "cell_type": "markdown",
   "id": "a9f9b16a",
   "metadata": {},
   "source": [
    "##### Converting string Date time into Python Date time object"
   ]
  },
  {
   "cell_type": "code",
   "execution_count": 12,
   "id": "ad3ec35f",
   "metadata": {},
   "outputs": [],
   "source": [
    "df1['date_received'] = pd.to_datetime(df1['date_received'])"
   ]
  },
  {
   "cell_type": "code",
   "execution_count": 13,
   "id": "6f178000",
   "metadata": {},
   "outputs": [
    {
     "data": {
      "text/plain": [
       "(Timestamp('2015-03-19 00:00:00'), Timestamp('2016-04-20 00:00:00'))"
      ]
     },
     "execution_count": 13,
     "metadata": {},
     "output_type": "execute_result"
    }
   ],
   "source": [
    "df1.date_received.min(),df1.date_received.max()"
   ]
  },
  {
   "cell_type": "code",
   "execution_count": 14,
   "id": "28e5b9a0",
   "metadata": {},
   "outputs": [],
   "source": [
    "df1['month'] = df1['date_received'].dt.month"
   ]
  },
  {
   "cell_type": "code",
   "execution_count": 15,
   "id": "ce3c000d",
   "metadata": {},
   "outputs": [
    {
     "data": {
      "text/plain": [
       "<AxesSubplot:xlabel='month', ylabel='count'>"
      ]
     },
     "execution_count": 15,
     "metadata": {},
     "output_type": "execute_result"
    },
    {
     "data": {
      "image/png": "[encoded data removed]",
      "text/plain": [
       "<Figure size 432x288 with 1 Axes>"
      ]
     },
     "metadata": {
      "needs_background": "light"
     },
     "output_type": "display_data"
    }
   ],
   "source": [
    "sns.countplot(x='month',data=df1)"
   ]
  },
  {
   "cell_type": "markdown",
   "id": "a235c179",
   "metadata": {},
   "source": [
    "#### Above plot shows no.of complaints per month."
   ]
  },
  {
   "cell_type": "code",
   "execution_count": 16,
   "id": "3302b0cf",
   "metadata": {},
   "outputs": [
    {
     "data": {
      "text/plain": [
       "<AxesSubplot:xlabel='timely_response', ylabel='count'>"
      ]
     },
     "execution_count": 16,
     "metadata": {},
     "output_type": "execute_result"
    },
    {
     "data": {
      "image/png": "[encoded data removed]",
      "text/plain": [
       "<Figure size 432x288 with 1 Axes>"
      ]
     },
     "metadata": {
      "needs_background": "light"
     },
     "output_type": "display_data"
    }
   ],
   "source": [
    "sns.countplot(x='timely_response',data=df1)"
   ]
  },
  {
   "cell_type": "markdown",
   "id": "df03bb1e",
   "metadata": {},
   "source": [
    "#### Above plot shows whether the reponse is given in time or not"
   ]
  },
  {
   "cell_type": "markdown",
   "id": "a09f82bc",
   "metadata": {},
   "source": [
    "## Text Data Preprocessing"
   ]
  },
  {
   "cell_type": "markdown",
   "id": "7b707e31",
   "metadata": {},
   "source": [
    "#### Step 1: Converting Text data to Lowercase."
   ]
  },
  {
   "cell_type": "code",
   "execution_count": 17,
   "id": "de608984",
   "metadata": {},
   "outputs": [],
   "source": [
    "df1['consumer_complaint_narrative'] =df1['consumer_complaint_narrative'].apply(lambda x: ' '.join([i.lower() for i in x.split()]))"
   ]
  },
  {
   "cell_type": "code",
   "execution_count": 18,
   "id": "99f54c8f",
   "metadata": {},
   "outputs": [
    {
     "data": {
      "text/plain": [
       "276772    on xxxx/xxxx/2015 i was contacted by xxxx xxxx...\n",
       "240606    nationstar mortgage is now playing the same ga...\n",
       "Name: consumer_complaint_narrative, dtype: object"
      ]
     },
     "execution_count": 18,
     "metadata": {},
     "output_type": "execute_result"
    }
   ],
   "source": [
    "#sample to check o/p\n",
    "df1['consumer_complaint_narrative'].sample(2)"
   ]
  },
  {
   "cell_type": "markdown",
   "id": "80796de8",
   "metadata": {},
   "source": [
    "#### Step 2: Removing Punctuations."
   ]
  },
  {
   "cell_type": "code",
   "execution_count": 19,
   "id": "95149e75",
   "metadata": {},
   "outputs": [],
   "source": [
    "df1['consumer_complaint_narrative'] =df1['consumer_complaint_narrative'].str.replace(r'[^\\w\\s]',\"\")"
   ]
  },
  {
   "cell_type": "code",
   "execution_count": 20,
   "id": "bcb83fa4",
   "metadata": {},
   "outputs": [
    {
     "data": {
      "text/plain": [
       "541685    regions mortgage paid expense hazard insurance...\n",
       "291317    my husband and i both have a loan through meri...\n",
       "Name: consumer_complaint_narrative, dtype: object"
      ]
     },
     "execution_count": 20,
     "metadata": {},
     "output_type": "execute_result"
    }
   ],
   "source": [
    "#sample to check o/p\n",
    "df1['consumer_complaint_narrative'].sample(2)"
   ]
  },
  {
   "cell_type": "markdown",
   "id": "404deff6",
   "metadata": {},
   "source": [
    "#### Step 3: Text Standardization using dictionaries."
   ]
  },
  {
   "cell_type": "code",
   "execution_count": 21,
   "id": "f3fdcd4c",
   "metadata": {},
   "outputs": [],
   "source": [
    "#we used three normalizazion dictionaries from these links :\n",
    "#http://www.hlt.utdallas.edu/~yangl/data/Text_Norm_Data_Release_Fei_Liu/\n",
    "#http://people.eng.unimelb.edu.au/tbaldwin/etc/emnlp2012-lexnorm.tgz\n",
    "#http://luululu.com/tweet/typo-corpus-r1.txt\n",
    "\n",
    "\n",
    "dico = {}\n",
    "dico1 = open('doc1.txt', 'rb')\n",
    "for word in dico1:\n",
    "    word = word.decode('utf8')\n",
    "    word = word.split()\n",
    "    dico[word[1]] = word[3]\n",
    "dico1.close()\n",
    "dico2 = open('doc2.txt', 'rb')\n",
    "for word in dico2:\n",
    "    word = word.decode('utf8')\n",
    "    word = word.split()\n",
    "    dico[word[0]] = word[1]\n",
    "dico2.close()\n",
    "dico3 = open('doc3.txt', 'rb')\n",
    "for word in dico3:\n",
    "    word = word.decode('utf8')\n",
    "    word = word.split()\n",
    "    dico[word[0]] = word[1]\n",
    "dico3.close()"
   ]
  },
  {
   "cell_type": "code",
   "execution_count": 22,
   "id": "7aa07699",
   "metadata": {},
   "outputs": [],
   "source": [
    "def txt_std(words):\n",
    "    list_words = words.split()\n",
    "    for i in range(len(list_words)):\n",
    "        if list_words[i] in dico.keys():\n",
    "            list_words[i] = dico[list_words[i]]\n",
    "    return ' '.join(list_words)"
   ]
  },
  {
   "cell_type": "code",
   "execution_count": 23,
   "id": "3c23de96",
   "metadata": {},
   "outputs": [],
   "source": [
    "#applying txt_std function\n",
    "\n",
    "df1['consumer_complaint_narrative'] = df1['consumer_complaint_narrative'].apply(txt_std)"
   ]
  },
  {
   "cell_type": "code",
   "execution_count": 24,
   "id": "f4a5923d",
   "metadata": {},
   "outputs": [
    {
     "data": {
      "text/plain": [
       "190126    xxxx has claimed i owe them 2700 for xxxx year...\n",
       "Name: consumer_complaint_narrative, dtype: object"
      ]
     },
     "execution_count": 24,
     "metadata": {},
     "output_type": "execute_result"
    }
   ],
   "source": [
    "#sample to check o/p\n",
    "df1.consumer_complaint_narrative.head(1)"
   ]
  },
  {
   "cell_type": "code",
   "execution_count": 25,
   "id": "adef4a6f",
   "metadata": {},
   "outputs": [],
   "source": [
    "#replacing specified phrase\n",
    "\n",
    "df1['consumer_complaint_narrative'] = df1['consumer_complaint_narrative'].str.replace(r\"xx+\\s\",\"\")"
   ]
  },
  {
   "cell_type": "code",
   "execution_count": 26,
   "id": "ff1aac4c",
   "metadata": {},
   "outputs": [
    {
     "data": {
      "text/plain": [
       "190126    has claimed i owe them 2700 for years despite ...\n",
       "Name: consumer_complaint_narrative, dtype: object"
      ]
     },
     "execution_count": 26,
     "metadata": {},
     "output_type": "execute_result"
    }
   ],
   "source": [
    "#sample to check o/p\n",
    "df1['consumer_complaint_narrative'].head(1)"
   ]
  },
  {
   "cell_type": "markdown",
   "id": "22b7e7de",
   "metadata": {},
   "source": [
    "#### Step 4: Removing Stopwords."
   ]
  },
  {
   "cell_type": "code",
   "execution_count": 27,
   "id": "ed0549e1",
   "metadata": {},
   "outputs": [],
   "source": [
    "#removing stop words using stopwords.words('english') which returns a list of lowercase stop words\n",
    "\n",
    "from nltk.corpus import stopwords\n",
    "stop = stopwords.words('english')\n",
    "df1['consumer_complaint_narrative'] =df1['consumer_complaint_narrative'].apply(lambda x: ' '.join([i for i in x.split() if i not in stop]))"
   ]
  },
  {
   "cell_type": "code",
   "execution_count": 28,
   "id": "fab8ef9b",
   "metadata": {},
   "outputs": [
    {
     "data": {
      "text/plain": [
       "190126    claimed owe 2700 years despite proof payment s...\n",
       "Name: consumer_complaint_narrative, dtype: object"
      ]
     },
     "execution_count": 28,
     "metadata": {},
     "output_type": "execute_result"
    }
   ],
   "source": [
    "#sample to check o/p\n",
    "df1['consumer_complaint_narrative'].head(1)"
   ]
  },
  {
   "cell_type": "markdown",
   "id": "4c3c2829",
   "metadata": {},
   "source": [
    "#### Step 5: Lemmatizing."
   ]
  },
  {
   "cell_type": "code",
   "execution_count": 29,
   "id": "5f88fed0",
   "metadata": {},
   "outputs": [],
   "source": [
    "from textblob import Word\n",
    "df1['consumer_complaint_narrative'] =df1['consumer_complaint_narrative'].apply(lambda x:' '.join([Word(i).lemmatize() for i in x.split()]))"
   ]
  },
  {
   "cell_type": "code",
   "execution_count": 30,
   "id": "504604e6",
   "metadata": {},
   "outputs": [
    {
     "data": {
      "text/plain": [
       "190126    claimed owe 2700 year despite proof payment se...\n",
       "Name: consumer_complaint_narrative, dtype: object"
      ]
     },
     "execution_count": 30,
     "metadata": {},
     "output_type": "execute_result"
    }
   ],
   "source": [
    "df1.consumer_complaint_narrative.head(1)"
   ]
  },
  {
   "cell_type": "markdown",
   "id": "9f9ac391",
   "metadata": {},
   "source": [
    "# Train/Test split\n",
    "### We have split data in 75:25 Percentage. "
   ]
  },
  {
   "cell_type": "code",
   "execution_count": 31,
   "id": "b5ba348f",
   "metadata": {},
   "outputs": [],
   "source": [
    "from sklearn.model_selection import train_test_split\n",
    "\n",
    "train_x, valid_x, train_y, valid_y = train_test_split(df1['consumer_complaint_narrative'], df1['product'],stratify=df1['product'], \n",
    "                                                    test_size=0.25)"
   ]
  },
  {
   "cell_type": "markdown",
   "id": "bb3b32ac",
   "metadata": {},
   "source": [
    "## Feature engineering of consumer complaint with TF-IDF"
   ]
  },
  {
   "cell_type": "markdown",
   "id": "bcc151f0",
   "metadata": {},
   "source": [
    "### Label encoding target variable"
   ]
  },
  {
   "cell_type": "code",
   "execution_count": 32,
   "id": "fff6796e",
   "metadata": {},
   "outputs": [],
   "source": [
    "from sklearn import preprocessing\n",
    "\n",
    "enc = preprocessing.LabelEncoder()\n",
    "train_y = enc.fit_transform(train_y)\n",
    "valid_y = enc.fit_transform(valid_y)"
   ]
  },
  {
   "cell_type": "markdown",
   "id": "5851a7e9",
   "metadata": {},
   "source": [
    "###  TF-IDF vector representation"
   ]
  },
  {
   "cell_type": "code",
   "execution_count": 33,
   "id": "74feb05e",
   "metadata": {},
   "outputs": [],
   "source": [
    "\n",
    "from sklearn.feature_extraction.text import TfidfVectorizer\n",
    "\n",
    "tfidf_vect = TfidfVectorizer(analyzer='word', token_pattern=r'\\w{1,}', max_features=5000)\n",
    "tfidf_vect.fit(df1['consumer_complaint_narrative'])\n",
    "xtrain_tfidf =  tfidf_vect.transform(train_x)\n",
    "xvalid_tfidf =  tfidf_vect.transform(valid_x)"
   ]
  },
  {
   "cell_type": "markdown",
   "id": "85fc2ef7",
   "metadata": {},
   "source": [
    "### LogisticRegression\n",
    "\n",
    "#### Logistic regression is one of the most popular Machine Learning algorithms, which comes under the Supervised Learning technique. It is used for predicting the categorical dependent variable using a given set of independent variables.\n",
    "#### Logistic regression is used for solving the classification problems.\n",
    "\n"
   ]
  },
  {
   "cell_type": "code",
   "execution_count": 34,
   "id": "97d20277",
   "metadata": {},
   "outputs": [
    {
     "data": {
      "text/plain": [
       "GridSearchCV(cv=5, estimator=LogisticRegression(), n_jobs=-1,\n",
       "             param_grid={'C': [1, 2, 3, 4, 5, 6, 7, 8, 9, 10]})"
      ]
     },
     "execution_count": 34,
     "metadata": {},
     "output_type": "execute_result"
    }
   ],
   "source": [
    "#takes time to run\n",
    "from sklearn.model_selection import GridSearchCV\n",
    "from sklearn.linear_model import LogisticRegression\n",
    "from sklearn import model_selection, linear_model, naive_bayes, metrics, svm\n",
    "from sklearn.svm import LinearSVC\n",
    "\n",
    "\n",
    "clf = LogisticRegression()\n",
    "lr_params = {'C':[int(x) for x in np.linspace(1,10,10)]}\n",
    "grid_lr = GridSearchCV(estimator=clf,param_grid=lr_params,cv=5,n_jobs=-1)\n",
    "grid_lr.fit(xtrain_tfidf,train_y)"
   ]
  },
  {
   "cell_type": "code",
   "execution_count": 35,
   "id": "30036c35",
   "metadata": {},
   "outputs": [
    {
     "name": "stdout",
     "output_type": "stream",
     "text": [
      "{'C': 3}\n",
      "0.8458806207562919\n"
     ]
    }
   ],
   "source": [
    "print(grid_lr.best_params_)\n",
    "print(grid_lr.best_score_)"
   ]
  },
  {
   "cell_type": "code",
   "execution_count": 36,
   "id": "4dfb523d",
   "metadata": {},
   "outputs": [
    {
     "data": {
      "text/plain": [
       "LogisticRegression(C=5)"
      ]
     },
     "execution_count": 36,
     "metadata": {},
     "output_type": "execute_result"
    }
   ],
   "source": [
    "final_lr = LogisticRegression(C=5)\n",
    "final_lr.fit(xtrain_tfidf,train_y)"
   ]
  },
  {
   "cell_type": "code",
   "execution_count": 37,
   "id": "a2418f14",
   "metadata": {},
   "outputs": [
    {
     "name": "stdout",
     "output_type": "stream",
     "text": [
      "Logistic Regression > Accuracy:  0.8445695126332176\n"
     ]
    }
   ],
   "source": [
    "final_lr_predict = final_lr.predict(xvalid_tfidf)\n",
    "lr_accuracy = metrics.accuracy_score(final_lr_predict, valid_y)\n",
    "print (\"Logistic Regression > Accuracy: \", lr_accuracy)"
   ]
  },
  {
   "cell_type": "code",
   "execution_count": 38,
   "id": "aded4f13",
   "metadata": {},
   "outputs": [
    {
     "name": "stdout",
     "output_type": "stream",
     "text": [
      "                         precision    recall  f1-score   support\n",
      "\n",
      "        Debt collection       0.81      0.78      0.80      1428\n",
      "          Consumer Loan       0.73      0.63      0.68       920\n",
      "               Mortgage       0.79      0.82      0.81      1982\n",
      "            Credit card       0.85      0.85      0.85      3132\n",
      "       Credit reporting       0.83      0.87      0.85      4388\n",
      "           Student loan       0.74      0.62      0.67       166\n",
      "Bank account or service       0.93      0.95      0.94      3730\n",
      "            Payday loan       1.00      0.04      0.07        27\n",
      "        Money transfers       0.66      0.40      0.50       182\n",
      "Other financial service       0.82      0.77      0.80       215\n",
      "           Prepaid card       0.89      0.80      0.84       532\n",
      "\n",
      "               accuracy                           0.84     16702\n",
      "              macro avg       0.82      0.68      0.71     16702\n",
      "           weighted avg       0.84      0.84      0.84     16702\n",
      "\n"
     ]
    }
   ],
   "source": [
    "from sklearn.metrics import classification_report\n",
    "print(classification_report(valid_y, final_lr_predict,target_names=df1['product'].unique()))"
   ]
  },
  {
   "cell_type": "code",
   "execution_count": 39,
   "id": "0e937057",
   "metadata": {},
   "outputs": [
    {
     "data": {
      "image/png": "[encoded data removed]",
      "text/plain": [
       "<Figure size 576x432 with 2 Axes>"
      ]
     },
     "metadata": {
      "needs_background": "light"
     },
     "output_type": "display_data"
    }
   ],
   "source": [
    "\n",
    "\n",
    "from sklearn.metrics import confusion_matrix\n",
    "conf_mat = confusion_matrix(valid_y, final_lr_predict)\n",
    "fig, ax = plt.subplots(figsize=(8,6))\n",
    "sns.heatmap(conf_mat, annot=True, fmt=\"d\", cmap=\"BuPu\",xticklabels=df1['product'].unique(),yticklabels=df1['product'].unique())\n",
    "plt.ylabel('Actual')\n",
    "plt.xlabel('Predicted')\n",
    "plt.show()"
   ]
  },
  {
   "cell_type": "code",
   "execution_count": 45,
   "id": "e7d86a8f",
   "metadata": {},
   "outputs": [],
   "source": [
    "import pickle\n",
    "\n",
    "file = open('logistic_reg_model.pkl', 'wb')\n",
    "\n",
    "pickle.dump(clf, file)"
   ]
  },
  {
   "cell_type": "code",
   "execution_count": null,
   "id": "6e743f24",
   "metadata": {},
   "outputs": [],
   "source": []
  },
  {
   "cell_type": "code",
   "execution_count": null,
   "id": "65e0e508",
   "metadata": {},
   "outputs": [],
   "source": []
  },
  {
   "cell_type": "markdown",
   "id": "9159edae",
   "metadata": {},
   "source": [
    "### We have acheived an accuracy of around 85% with a Logistic Regression model and the classification metrics are good for all departments except Payday loan - this might be due to less training instances of this product category and also on looking at the confusion matrix it is mostly being predicted as Credit reporting or debt collection which gives us an indication that this product is similar to one another or maybe linked with other."
   ]
  },
  {
   "cell_type": "markdown",
   "id": "3c55d383",
   "metadata": {},
   "source": [
    "### We might further improve the performance using SVM, GBM, Neural Networks and utilize hyperparameter tuning."
   ]
  },
  {
   "cell_type": "markdown",
   "id": "a6d60c71",
   "metadata": {},
   "source": [
    "# Support Vector Machine(SVM)\n",
    "\n",
    "#### We have used Support Vector Machine(SVM) supervised machine learning algorithms which are used both for classification and regression.\n",
    "#### SVMs have their unique way of implementation as compared to other machine learning algorithms. Lately, they are extremely popular because of their ability to handle multiple continuous and categorical variables.\n",
    "\n",
    "#### Advantages\n",
    "#### SVM Classifiers offer good accuracy and perform faster prediction compared to Naïve Bayes algorithm. \n",
    "#### They also use less memory because they use a subset of training points in the decision phase. \n",
    "#### SVM works well with a clear margin of separation and with high dimensional space.\n",
    "\n",
    "#### As our data set have 19 lables we came to a agreement that Support Vector Machine(SVM) is perfect."
   ]
  },
  {
   "cell_type": "code",
   "execution_count": null,
   "id": "47eef9b9",
   "metadata": {},
   "outputs": [],
   "source": []
  },
  {
   "cell_type": "code",
   "execution_count": 40,
   "id": "faab3d70",
   "metadata": {},
   "outputs": [
    {
     "data": {
      "text/plain": [
       "GridSearchCV(cv=5, estimator=LinearSVC(), n_jobs=-1,\n",
       "             param_grid={'C': [0.01, 0.1, 1, 10, 100, 1000]})"
      ]
     },
     "execution_count": 40,
     "metadata": {},
     "output_type": "execute_result"
    }
   ],
   "source": [
    "from sklearn.svm import LinearSVC\n",
    "from sklearn.model_selection import GridSearchCV, cross_validate, KFold\n",
    "\n",
    "svc_model = LinearSVC()\n",
    "svc_params = {'C':[0.01,0.1, 1, 10, 100, 1000]}\n",
    "grid_svc = GridSearchCV(estimator=svc_model,param_grid=svc_params,cv=5,n_jobs=-1)\n",
    "grid_svc.fit(xtrain_tfidf,train_y)"
   ]
  },
  {
   "cell_type": "code",
   "execution_count": 41,
   "id": "77336636",
   "metadata": {},
   "outputs": [
    {
     "name": "stdout",
     "output_type": "stream",
     "text": [
      "{'C': 0.1}\n",
      "0.8439645686174801\n"
     ]
    }
   ],
   "source": [
    "print(grid_svc.best_params_)\n",
    "print(grid_svc.best_score_)"
   ]
  },
  {
   "cell_type": "code",
   "execution_count": 42,
   "id": "aed84ac0",
   "metadata": {},
   "outputs": [
    {
     "data": {
      "text/plain": [
       "LinearSVC(C=0.1)"
      ]
     },
     "execution_count": 42,
     "metadata": {},
     "output_type": "execute_result"
    }
   ],
   "source": [
    "final_svc = LinearSVC(C=0.1)\n",
    "final_svc.fit(xtrain_tfidf,train_y)"
   ]
  },
  {
   "cell_type": "code",
   "execution_count": 43,
   "id": "8f1c5c52",
   "metadata": {},
   "outputs": [
    {
     "name": "stdout",
     "output_type": "stream",
     "text": [
      "SVC > Accuracy:  0.8451083702550592\n"
     ]
    }
   ],
   "source": [
    "final_svc_predict = final_svc.predict(xvalid_tfidf)\n",
    "svc_accuracy = metrics.accuracy_score(final_svc_predict, valid_y)\n",
    "print (\"SVC > Accuracy: \", svc_accuracy)"
   ]
  },
  {
   "cell_type": "code",
   "execution_count": 44,
   "id": "ad1d1b87",
   "metadata": {},
   "outputs": [
    {
     "name": "stdout",
     "output_type": "stream",
     "text": [
      "                         precision    recall  f1-score   support\n",
      "\n",
      "        Debt collection       0.83      0.79      0.81      1428\n",
      "          Consumer Loan       0.79      0.58      0.67       920\n",
      "               Mortgage       0.80      0.83      0.81      1982\n",
      "            Credit card       0.85      0.84      0.84      3132\n",
      "       Credit reporting       0.82      0.88      0.85      4388\n",
      "           Student loan       0.76      0.52      0.62       166\n",
      "Bank account or service       0.92      0.96      0.94      3730\n",
      "            Payday loan       0.00      0.00      0.00        27\n",
      "        Money transfers       0.74      0.23      0.35       182\n",
      "Other financial service       0.83      0.69      0.75       215\n",
      "           Prepaid card       0.87      0.82      0.84       532\n",
      "\n",
      "               accuracy                           0.85     16702\n",
      "              macro avg       0.74      0.65      0.68     16702\n",
      "           weighted avg       0.84      0.85      0.84     16702\n",
      "\n"
     ]
    }
   ],
   "source": [
    "print(classification_report(valid_y, final_svc_predict,target_names=df1['product'].unique()))"
   ]
  },
  {
   "cell_type": "code",
   "execution_count": 45,
   "id": "2d34039e",
   "metadata": {},
   "outputs": [
    {
     "data": {
      "image/png": "[encoded data removed]",
      "text/plain": [
       "<Figure size 576x432 with 2 Axes>"
      ]
     },
     "metadata": {
      "needs_background": "light"
     },
     "output_type": "display_data"
    }
   ],
   "source": [
    "\n",
    "conf_mat = confusion_matrix(valid_y, final_svc_predict)\n",
    "fig, ax = plt.subplots(figsize=(8,6))\n",
    "sns.heatmap(conf_mat, annot=True, fmt=\"d\", cmap=\"BuPu\",xticklabels=df1['product'].unique(),yticklabels=df1['product'].unique())\n",
    "plt.ylabel('Actual')\n",
    "plt.xlabel('Predicted')\n",
    "plt.show()"
   ]
  },
  {
   "cell_type": "code",
   "execution_count": 48,
   "id": "2ad2e41e",
   "metadata": {},
   "outputs": [],
   "source": [
    "import pickle\n",
    "\n",
    "file = open('svmmodel.pkl', 'wb')\n",
    "\n",
    "pickle.dump(svc_model, file)\n"
   ]
  },
  {
   "cell_type": "markdown",
   "id": "609d052f",
   "metadata": {},
   "source": [
    "### We have acheived an accuracy of around 85% with Support Vector Machine(SVM)."
   ]
  },
  {
   "cell_type": "markdown",
   "id": "a2102a34",
   "metadata": {},
   "source": [
    "# Deep Learning model"
   ]
  },
  {
   "cell_type": "code",
   "execution_count": 50,
   "id": "e09d1b29",
   "metadata": {
    "scrolled": true
   },
   "outputs": [],
   "source": [
    "import tensorflow as tf\n",
    "import keras\n",
    "from tensorflow.keras.models import Sequential\n",
    "from tensorflow.keras.layers import Dense, LSTM\n",
    "from keras.preprocessing.text import Tokenizer\n",
    "from keras.preprocessing.sequence import pad_sequences\n",
    "import keras.utils\n",
    "from keras.layers import Dense, Input, LSTM, Embedding, Dropout, Activation\n",
    "from keras.layers import Bidirectional, GlobalMaxPool1D, Conv1D, SimpleRNN\n",
    "from keras.models import Model\n",
    "from keras.models import Sequential\n",
    "from keras import initializers, regularizers, constraints, optimizers, layers\n",
    "from keras.layers import Dense, Input, Flatten, Dropout, BatchNormalization\n",
    "from keras.layers import Conv1D, MaxPooling1D, Embedding\n",
    "from keras.models import Sequential\n",
    "import nltk\n",
    "from nltk.corpus import stopwords\n",
    "from nltk.tokenize import sent_tokenize, word_tokenize\n",
    "from nltk.tokenize.toktok import ToktokTokenizer\n",
    "tokenizer = ToktokTokenizer()\n",
    "stopword_list = nltk.corpus.stopwords.words('english')   "
   ]
  },
  {
   "cell_type": "code",
   "execution_count": 51,
   "id": "fc877281",
   "metadata": {},
   "outputs": [],
   "source": [
    "total_complaints = np.append(train_x.values,valid_x.values)\n",
    "tokenizer = Tokenizer(num_words=25000)\n",
    "tokenizer.fit_on_texts(train_x.values)#total_complaints\n",
    "train_sequences = tokenizer.texts_to_sequences(train_x.values)\n",
    "test_sequences = tokenizer.texts_to_sequences(valid_x.values)"
   ]
  },
  {
   "cell_type": "code",
   "execution_count": 53,
   "id": "8f4b42eb",
   "metadata": {},
   "outputs": [
    {
     "name": "stdout",
     "output_type": "stream",
     "text": [
      "Found 51412 unique tokens.\n"
     ]
    }
   ],
   "source": [
    "word_index = tokenizer.word_index# dictionary containing words and their index\n",
    "print('Found %s unique tokens.' % len(word_index))"
   ]
  },
  {
   "cell_type": "code",
   "execution_count": 54,
   "id": "b0e39485",
   "metadata": {},
   "outputs": [],
   "source": [
    "MAX_SEQUENCE_LENGTH = max([len(c.split()) for c in total_complaints])"
   ]
  },
  {
   "cell_type": "code",
   "execution_count": 55,
   "id": "a02c7afb",
   "metadata": {},
   "outputs": [
    {
     "data": {
      "text/plain": [
       "394"
      ]
     },
     "execution_count": 55,
     "metadata": {},
     "output_type": "execute_result"
    }
   ],
   "source": [
    "MAX_SEQUENCE_LENGTH"
   ]
  },
  {
   "cell_type": "code",
   "execution_count": 56,
   "id": "e882f5b1",
   "metadata": {},
   "outputs": [],
   "source": [
    "train_data = pad_sequences(train_sequences, maxlen=MAX_SEQUENCE_LENGTH,padding='post')\n",
    "test_data = pad_sequences(test_sequences, maxlen=MAX_SEQUENCE_LENGTH,padding='post')"
   ]
  },
  {
   "cell_type": "code",
   "execution_count": 57,
   "id": "2c50edba",
   "metadata": {},
   "outputs": [
    {
     "name": "stdout",
     "output_type": "stream",
     "text": [
      "(50104, 394)\n",
      "(16702, 394)\n"
     ]
    }
   ],
   "source": [
    "print(train_data.shape)\n",
    "print(test_data.shape)"
   ]
  },
  {
   "cell_type": "code",
   "execution_count": 58,
   "id": "2817c147",
   "metadata": {},
   "outputs": [],
   "source": [
    "enc = preprocessing.LabelEncoder()\n",
    "train_labels = enc.fit_transform(train_y)\n",
    "test_labels = enc.fit_transform(valid_y)"
   ]
  },
  {
   "cell_type": "code",
   "execution_count": 59,
   "id": "a1edc3f2",
   "metadata": {},
   "outputs": [
    {
     "name": "stdout",
     "output_type": "stream",
     "text": [
      "[ 0  1  2  3  4  5  6  7  8  9 10]\n",
      "(array([ 0,  1,  2,  3,  4,  5,  6,  7,  8,  9, 10], dtype=int64), array([ 4283,  2758,  5947,  9394, 13164,   500, 11189,    83,   544,\n",
      "         646,  1596], dtype=int64))\n",
      "(array([ 0,  1,  2,  3,  4,  5,  6,  7,  8,  9, 10], dtype=int64), array([1428,  920, 1982, 3132, 4388,  166, 3730,   27,  182,  215,  532],\n",
      "      dtype=int64))\n"
     ]
    }
   ],
   "source": [
    "print(enc.classes_)\n",
    "print(np.unique(train_labels, return_counts=True))\n",
    "print(np.unique(test_labels, return_counts=True))"
   ]
  },
  {
   "cell_type": "code",
   "execution_count": 60,
   "id": "f0c66897",
   "metadata": {},
   "outputs": [
    {
     "ename": "NameError",
     "evalue": "name 'to_categorical' is not defined",
     "output_type": "error",
     "traceback": [
      "\u001b[1;31m---------------------------------------------------------------------------\u001b[0m",
      "\u001b[1;31mNameError\u001b[0m                                 Traceback (most recent call last)",
      "\u001b[1;32m<ipython-input-60-f32c70b403da>\u001b[0m in \u001b[0;36m<module>\u001b[1;34m\u001b[0m\n\u001b[1;32m----> 1\u001b[1;33m \u001b[0mlabels_train\u001b[0m \u001b[1;33m=\u001b[0m \u001b[0mto_categorical\u001b[0m\u001b[1;33m(\u001b[0m\u001b[0mnp\u001b[0m\u001b[1;33m.\u001b[0m\u001b[0masarray\u001b[0m\u001b[1;33m(\u001b[0m\u001b[0mtrain_labels\u001b[0m\u001b[1;33m)\u001b[0m\u001b[1;33m)\u001b[0m\u001b[1;33m\u001b[0m\u001b[1;33m\u001b[0m\u001b[0m\n\u001b[0m\u001b[0;32m      2\u001b[0m \u001b[0mlabels_test\u001b[0m \u001b[1;33m=\u001b[0m \u001b[0mto_categorical\u001b[0m\u001b[1;33m(\u001b[0m\u001b[0mnp\u001b[0m\u001b[1;33m.\u001b[0m\u001b[0masarray\u001b[0m\u001b[1;33m(\u001b[0m\u001b[0mtest_labels\u001b[0m\u001b[1;33m)\u001b[0m\u001b[1;33m)\u001b[0m\u001b[1;33m\u001b[0m\u001b[1;33m\u001b[0m\u001b[0m\n\u001b[0;32m      3\u001b[0m \u001b[0mprint\u001b[0m\u001b[1;33m(\u001b[0m\u001b[1;34m'Shape of data tensor:'\u001b[0m\u001b[1;33m,\u001b[0m \u001b[0mtrain_data\u001b[0m\u001b[1;33m.\u001b[0m\u001b[0mshape\u001b[0m\u001b[1;33m)\u001b[0m\u001b[1;33m\u001b[0m\u001b[1;33m\u001b[0m\u001b[0m\n\u001b[0;32m      4\u001b[0m \u001b[0mprint\u001b[0m\u001b[1;33m(\u001b[0m\u001b[1;34m'Shape of label tensor:'\u001b[0m\u001b[1;33m,\u001b[0m \u001b[0mlabels_train\u001b[0m\u001b[1;33m.\u001b[0m\u001b[0mshape\u001b[0m\u001b[1;33m)\u001b[0m\u001b[1;33m\u001b[0m\u001b[1;33m\u001b[0m\u001b[0m\n\u001b[0;32m      5\u001b[0m \u001b[0mprint\u001b[0m\u001b[1;33m(\u001b[0m\u001b[1;34m'Shape of label tensor:'\u001b[0m\u001b[1;33m,\u001b[0m \u001b[0mlabels_test\u001b[0m\u001b[1;33m.\u001b[0m\u001b[0mshape\u001b[0m\u001b[1;33m)\u001b[0m\u001b[1;33m\u001b[0m\u001b[1;33m\u001b[0m\u001b[0m\n",
      "\u001b[1;31mNameError\u001b[0m: name 'to_categorical' is not defined"
     ]
    }
   ],
   "source": [
    "labels_train = to_categorical(np.asarray(train_labels))\n",
    "labels_test = to_categorical(np.asarray(test_labels))\n",
    "print('Shape of data tensor:', train_data.shape)\n",
    "print('Shape of label tensor:', labels_train.shape)\n",
    "print('Shape of label tensor:', labels_test.shape)"
   ]
  },
  {
   "cell_type": "markdown",
   "id": "5ac081f5",
   "metadata": {},
   "source": [
    "# CNN w/ Pre-trained word embeddings(GloVe)"
   ]
  },
  {
   "cell_type": "markdown",
   "id": "059a08be",
   "metadata": {},
   "source": [
    "### We'll use pre-trained embeddings such as Glove which provides word based vector representation trained on a large corpus.\n",
    "\n",
    "### It is trained on a dataset of one billion tokens (words) with a vocabulary of 400 thousand words. The glove has embedding vector sizes, including 50, 100, 200 and 300 dimensions."
   ]
  },
  {
   "cell_type": "code",
   "execution_count": 56,
   "id": "ff45186e",
   "metadata": {},
   "outputs": [
    {
     "name": "stdout",
     "output_type": "stream",
     "text": [
      "Found 400000 word vectors.\n"
     ]
    }
   ],
   "source": [
    "\n",
    "from io import StringIO\n",
    "import os\n",
    "import string\n",
    "import gensim\n",
    "from gensim.models import Word2Vec\n",
    "import itertools\n",
    "import scipy\n",
    "\n",
    "embeddings_dict = {}\n",
    "\n",
    "f =  open(\"glove.6B.300d.txt\",encoding='UTF-8')\n",
    "\n",
    "for line in f:\n",
    "    values = line.split()\n",
    "    word = values[0]\n",
    "    vector = np.asarray(values[1:], \"float32\")\n",
    "    embeddings_dict[word] = vector\n",
    "    \n",
    "print('Found %s word vectors.' % len(embeddings_dict))"
   ]
  },
  {
   "cell_type": "code",
   "execution_count": 57,
   "id": "32e37a3d",
   "metadata": {},
   "outputs": [],
   "source": [
    "EMBEDDING_DIM = 300\n",
    "embedding_matrix = np.zeros((len(word_index) + 1, EMBEDDING_DIM))\n",
    "for word, i in word_index.items():\n",
    "    embedding_vector = embeddings_dict.get(word)\n",
    "    if embedding_vector is not None:\n",
    "        embedding_matrix[i] = embedding_vector"
   ]
  },
  {
   "cell_type": "code",
   "execution_count": 58,
   "id": "507b1ea8",
   "metadata": {},
   "outputs": [
    {
     "data": {
      "text/plain": [
       "[('loan', 4)]"
      ]
     },
     "execution_count": 58,
     "metadata": {},
     "output_type": "execute_result"
    }
   ],
   "source": [
    "[(k,v) for k,v in word_index.items() if v==4]"
   ]
  },
  {
   "cell_type": "code",
   "execution_count": 59,
   "id": "68c3c985",
   "metadata": {},
   "outputs": [
    {
     "data": {
      "text/plain": [
       "array([ 0.13474999,  0.063568  , -0.37950999, -0.080729  ,  0.34176001,\n",
       "       -0.0053481 ,  0.80001003, -0.78824002, -0.47262999, -0.89402002,\n",
       "        0.086908  , -0.051773  ,  0.57349998, -0.26681   , -0.0043554 ,\n",
       "       -0.68673003,  0.54759002, -0.47711   ,  0.12997   , -0.50748003,\n",
       "        0.073666  , -0.56199998,  0.19243   , -0.022735  ,  0.15757   ,\n",
       "        0.68008   , -0.48374999,  0.14399   , -0.69022   ,  0.26741001,\n",
       "       -0.53082001, -0.29096001,  0.32907999,  0.12313   , -1.14779997,\n",
       "       -0.51828998, -0.018956  ,  0.02077   , -0.0015803 , -0.053114  ,\n",
       "       -0.10982   , -0.83578998, -0.46337   ,  0.85992002,  0.57225001,\n",
       "       -0.33202001, -0.23357999,  0.80937999, -0.43586999,  0.35385001,\n",
       "        0.0055405 ,  0.068909  ,  0.13897   ,  0.16237999,  0.038382  ,\n",
       "       -0.16306999, -0.022701  ,  0.14324   , -0.25878   , -0.47661999,\n",
       "        0.25588   , -0.23389   , -0.14936   , -0.51688999,  0.44329   ,\n",
       "        0.49015   ,  0.25725001, -0.45041999,  0.66949999, -0.32949001,\n",
       "        0.34626999,  0.91883999,  0.29245001,  0.20112   ,  0.19018   ,\n",
       "        0.17321999, -0.3028    ,  0.34022999,  0.49851999, -0.66885   ,\n",
       "        0.046698  , -0.19625001, -0.18028   , -0.41620001,  0.25986001,\n",
       "       -0.078103  , -0.33655   ,  0.2077    , -0.69224   ,  0.13703001,\n",
       "       -0.078832  ,  0.26159   , -0.81893998, -0.35289001,  0.93794   ,\n",
       "       -0.1078    , -0.0944    , -0.11647   ,  0.16785   , -0.32293001,\n",
       "        0.26176   , -0.37233001,  0.20868   ,  0.040312  , -0.10222   ,\n",
       "        0.03121   , -0.09023   ,  0.10476   , -0.042395  ,  0.43564999,\n",
       "        0.18483   , -0.37215999, -0.21328001, -0.38079   ,  0.39579999,\n",
       "       -0.32354999,  0.36971   ,  0.036001  ,  0.27676001, -0.19016001,\n",
       "        0.45638999, -0.16368   , -0.28349   ,  1.09430003,  0.42951   ,\n",
       "        0.31263   , -0.24164   , -0.65586001,  0.42745   ,  0.062487  ,\n",
       "        0.13004   ,  0.40292001,  0.36722001,  0.2735    ,  0.41966999,\n",
       "        0.22131   ,  0.11602   ,  0.22048999, -0.70600998, -0.35673001,\n",
       "        0.30159   ,  0.1577    ,  0.50809997, -0.17802   , -0.1236    ,\n",
       "        0.039545  , -0.47681001, -0.27853999,  0.022819  , -0.34139001,\n",
       "        0.057525  , -0.19609   , -0.47088999, -0.094618  ,  0.03156   ,\n",
       "        0.17686   ,  0.1304    , -0.19153   , -1.01779997,  0.27147001,\n",
       "       -0.094474  ,  0.19495   , -0.22766   ,  0.48361999, -0.15542001,\n",
       "       -0.31952   ,  0.18727   , -0.20431   ,  0.17941   ,  0.39689001,\n",
       "       -0.22562   ,  0.22657   , -0.39245999,  0.13325   ,  0.11315   ,\n",
       "       -0.0089568 , -0.39331999, -0.42818999, -0.050899  ,  0.98714   ,\n",
       "        0.70963001, -0.73843002,  0.0015733 , -0.22325   , -0.032507  ,\n",
       "        0.068939  , -0.061416  ,  0.27745   ,  0.81079   ,  0.068871  ,\n",
       "       -0.11854   ,  1.23679996, -0.2137    ,  0.14869   , -0.10408   ,\n",
       "       -0.28125   ,  0.44893   , -0.020156  , -0.24044999, -0.26190999,\n",
       "        0.39906001,  0.083602  , -0.36026001,  0.099067  ,  0.32196999,\n",
       "       -0.52192003, -0.20076001,  0.22297999, -0.55962998, -0.043737  ,\n",
       "       -0.11283   , -0.12897   ,  0.087192  , -0.27746001,  0.36127999,\n",
       "        0.50796002,  0.0031916 ,  0.42192   , -0.61040002,  0.31369001,\n",
       "        0.32049   , -0.29355001, -0.59398001, -0.24123   ,  0.052429  ,\n",
       "       -0.21264   , -0.086706  ,  0.21190999,  0.15614   ,  0.20209999,\n",
       "       -0.52890998,  0.22271   , -0.034363  , -0.047417  ,  0.57754999,\n",
       "       -0.13970999, -0.1857    ,  0.30785999,  0.903     ,  0.33508   ,\n",
       "        0.84836   ,  0.14651   ,  0.65511   , -0.13307001, -0.89139003,\n",
       "        0.45642   , -0.027791  , -0.70120001, -0.036094  , -0.048917  ,\n",
       "       -0.28738999,  0.37559   ,  0.19429   ,  0.26212001,  0.27517   ,\n",
       "       -0.20432   , -1.36479998,  0.41104999,  0.21875   ,  0.023549  ,\n",
       "       -0.37918001,  0.90345001, -0.061026  ,  0.39754999, -0.30871999,\n",
       "        0.066477  ,  0.36392999,  0.30715999, -0.010557  , -0.068205  ,\n",
       "        0.43869999, -0.39995   , -0.67673999,  0.41769999,  1.01440001,\n",
       "       -0.043677  , -0.87041003, -0.43674999,  0.53908998,  0.13293   ,\n",
       "       -0.16768999, -0.033394  ,  0.29978001,  0.24638   ,  0.077386  ,\n",
       "        0.73455   ,  0.20106   , -0.31229001,  0.44185999, -0.64885002,\n",
       "       -0.50042999,  0.40474001, -0.31336999, -0.93396997,  1.26020002,\n",
       "        0.38231999,  0.51256001, -0.27717999, -0.83829999,  0.19851001])"
      ]
     },
     "execution_count": 59,
     "metadata": {},
     "output_type": "execute_result"
    }
   ],
   "source": [
    "embedding_matrix[4]"
   ]
  },
  {
   "cell_type": "code",
   "execution_count": 60,
   "id": "d708aa37",
   "metadata": {},
   "outputs": [],
   "source": [
    "vocab_size = len(tokenizer.word_index)+1"
   ]
  },
  {
   "cell_type": "code",
   "execution_count": 61,
   "id": "4167ba21",
   "metadata": {},
   "outputs": [],
   "source": [
    "from tensorflow.keras.models import Sequential\n",
    "from tensorflow.keras.layers import Dense\n",
    "model = Sequential()\n",
    "model.add(Embedding(len(word_index) + 1, EMBEDDING_DIM , weights=[embedding_matrix],input_length=MAX_SEQUENCE_LENGTH,\n",
    "                            trainable=True))\n",
    "model.add(Dropout(0.3))\n",
    "model.add(Conv1D(128, 5, activation=\"relu\"))\n",
    "model.add(MaxPooling1D(5))\n",
    "model.add(Dropout(0.3))\n",
    "model.add(BatchNormalization())\n",
    "model.add(Conv1D(128, 5, activation=\"relu\"))\n",
    "model.add(MaxPooling1D(5))\n",
    "model.add(Dropout(0.3))\n",
    "model.add(BatchNormalization())\n",
    "model.add(Flatten())\n",
    "model.add(Dense(128, activation=\"relu\"))\n",
    "model.add(Dense(11, activation=\"softmax\"))\n",
    "model.compile(loss='categorical_crossentropy', optimizer=\"rmsprop\", metrics=['acc'])\n"
   ]
  },
  {
   "cell_type": "code",
   "execution_count": 62,
   "id": "0f9a7282",
   "metadata": {},
   "outputs": [
    {
     "name": "stdout",
     "output_type": "stream",
     "text": [
      "Epoch 1/8\n",
      "783/783 [==============================] - 408s 519ms/step - loss: 1.3270 - acc: 0.5763 - val_loss: 0.6505 - val_acc: 0.8025\n",
      "Epoch 2/8\n",
      "783/783 [==============================] - 411s 525ms/step - loss: 0.6665 - acc: 0.7966 - val_loss: 0.5930 - val_acc: 0.8256\n",
      "Epoch 3/8\n",
      "783/783 [==============================] - 404s 516ms/step - loss: 0.5658 - acc: 0.8283 - val_loss: 0.5536 - val_acc: 0.8442\n",
      "Epoch 4/8\n",
      "783/783 [==============================] - 404s 516ms/step - loss: 0.5163 - acc: 0.8451 - val_loss: 0.5417 - val_acc: 0.8448\n",
      "Epoch 5/8\n",
      "783/783 [==============================] - 408s 521ms/step - loss: 0.4875 - acc: 0.8511 - val_loss: 0.5339 - val_acc: 0.8494\n",
      "Epoch 6/8\n",
      "783/783 [==============================] - 403s 515ms/step - loss: 0.4584 - acc: 0.8631 - val_loss: 0.5716 - val_acc: 0.8479\n",
      "Epoch 7/8\n",
      "783/783 [==============================] - 400s 511ms/step - loss: 0.4382 - acc: 0.8675 - val_loss: 0.5522 - val_acc: 0.8476\n",
      "Epoch 8/8\n",
      "783/783 [==============================] - 400s 511ms/step - loss: 0.4040 - acc: 0.8763 - val_loss: 0.5903 - val_acc: 0.8484\n"
     ]
    }
   ],
   "source": [
    "#performed 8 epochs with a batch size of 64\n",
    "\n",
    "history = model.fit(train_data, labels_train,\n",
    " batch_size=64,\n",
    " epochs=8,\n",
    " validation_data=(test_data, labels_test))"
   ]
  },
  {
   "cell_type": "code",
   "execution_count": 63,
   "id": "a459d4eb",
   "metadata": {},
   "outputs": [
    {
     "data": {
      "image/png": "[encoded data removed]",
      "text/plain": [
       "<Figure size 432x288 with 1 Axes>"
      ]
     },
     "metadata": {
      "needs_background": "light"
     },
     "output_type": "display_data"
    }
   ],
   "source": [
    "#plotting loss curves \n",
    "fig1 = plt.figure()\n",
    "plt.plot(history.history['loss'],'r',linewidth=3.0)\n",
    "plt.plot(history.history['val_loss'],'b',linewidth=3.0)\n",
    "plt.legend(['Training loss', 'Validation Loss'],fontsize=18)\n",
    "plt.xlabel('Epochs ',fontsize=16)\n",
    "plt.ylabel('Loss',fontsize=16)\n",
    "plt.title('Loss Curves :CNN',fontsize=16)\n",
    "plt.show()"
   ]
  },
  {
   "cell_type": "markdown",
   "id": "675468ef",
   "metadata": {},
   "source": [
    "#### After 3 epochs the CNN tends to be overfitting the training data and therefore we need to implement early stopping to prevent such instances of overfitting and tune the number of epochs during training."
   ]
  },
  {
   "cell_type": "markdown",
   "id": "1c610320",
   "metadata": {},
   "source": [
    "### Predictions on test data"
   ]
  },
  {
   "cell_type": "code",
   "execution_count": 64,
   "id": "fb2445c9",
   "metadata": {},
   "outputs": [
    {
     "data": {
      "text/plain": [
       "array([[5.3358228e-05, 1.7672184e-01, 2.8677896e-06, ..., 5.5676144e-01,\n",
       "        3.1638328e-10, 1.4468869e-03],\n",
       "       [1.1353781e-02, 2.5273609e-06, 7.5471457e-03, ..., 5.9119247e-07,\n",
       "        9.7878712e-01, 3.1516599e-08],\n",
       "       [7.6600601e-04, 1.5958094e-03, 2.8457303e-04, ..., 3.0696115e-06,\n",
       "        1.0388401e-11, 4.5381234e-06],\n",
       "       ...,\n",
       "       [1.3063318e-04, 2.9160117e-04, 4.8916400e-03, ..., 6.3161197e-06,\n",
       "        1.4084380e-08, 2.6008527e-05],\n",
       "       [7.6666651e-03, 2.2105644e-02, 4.9987752e-02, ..., 1.8254317e-03,\n",
       "        4.8822883e-04, 1.7325779e-03],\n",
       "       [2.5169741e-04, 7.0479150e-06, 1.8173014e-06, ..., 1.6554663e-09,\n",
       "        1.3528830e-16, 1.9161643e-08]], dtype=float32)"
      ]
     },
     "execution_count": 64,
     "metadata": {},
     "output_type": "execute_result"
    }
   ],
   "source": [
    "predicted=model.predict(test_data)\n",
    "predicted"
   ]
  },
  {
   "cell_type": "markdown",
   "id": "a46880d6",
   "metadata": {},
   "source": [
    "### Model evaluation"
   ]
  },
  {
   "cell_type": "code",
   "execution_count": 65,
   "id": "78c99490",
   "metadata": {},
   "outputs": [
    {
     "name": "stdout",
     "output_type": "stream",
     "text": [
      "precision: \n",
      "[0.89767842 0.8171875  0.87960829 0.89806496 0.79095934 0.72727273\n",
      " 0.94064171 0.         0.72916667 0.82795699 0.91004184]\n",
      "recall: \n",
      "[0.73109244 0.56847826 0.77043391 0.8298212  0.91317229 0.62650602\n",
      " 0.94316354 0.         0.19230769 0.71627907 0.81766917]\n",
      "fscore: \n",
      "[0.80586646 0.67051282 0.82140936 0.86259542 0.84768352 0.67313916\n",
      " 0.94190094 0.         0.30434783 0.7680798  0.86138614]\n",
      "support: \n",
      "[1428  920 1982 3132 4388  166 3730   27  182  215  532]\n"
     ]
    }
   ],
   "source": [
    "from sklearn.metrics import precision_recall_fscore_support as score\n",
    "precision, recall, fscore, support = score(labels_test, predicted.round())\n",
    "print('precision: \\n{}'.format(precision))\n",
    "print('recall: \\n{}'.format(recall))\n",
    "print('fscore: \\n{}'.format(fscore))\n",
    "print('support: \\n{}'.format(support))"
   ]
  },
  {
   "cell_type": "code",
   "execution_count": 66,
   "id": "a28ac2a7",
   "metadata": {},
   "outputs": [
    {
     "name": "stdout",
     "output_type": "stream",
     "text": [
      "                         precision    recall  f1-score   support\n",
      "\n",
      "        Debt collection       0.90      0.73      0.81      1428\n",
      "          Consumer Loan       0.82      0.57      0.67       920\n",
      "               Mortgage       0.88      0.77      0.82      1982\n",
      "            Credit card       0.90      0.83      0.86      3132\n",
      "       Credit reporting       0.79      0.91      0.85      4388\n",
      "           Student loan       0.73      0.63      0.67       166\n",
      "Bank account or service       0.94      0.94      0.94      3730\n",
      "            Payday loan       0.00      0.00      0.00        27\n",
      "        Money transfers       0.73      0.19      0.30       182\n",
      "Other financial service       0.83      0.72      0.77       215\n",
      "           Prepaid card       0.91      0.82      0.86       532\n",
      "\n",
      "              micro avg       0.87      0.83      0.85     16702\n",
      "              macro avg       0.77      0.65      0.69     16702\n",
      "           weighted avg       0.87      0.83      0.85     16702\n",
      "            samples avg       0.83      0.83      0.83     16702\n",
      "\n"
     ]
    }
   ],
   "source": [
    "print(classification_report(labels_test, predicted.round(),target_names=df1['product'].unique()))"
   ]
  },
  {
   "cell_type": "markdown",
   "id": "6469e622",
   "metadata": {},
   "source": [
    "#### Now, we'll initialize our Embedding layer from scratch and learning its weights during training instead of using a pre-trained word embeddings and build a small 1D convnet to solve our classification problem."
   ]
  },
  {
   "cell_type": "code",
   "execution_count": 68,
   "id": "7ec6f3cf",
   "metadata": {},
   "outputs": [],
   "source": [
    "#The Embedding layer requires the specification of the vocabulary size (vocab_size), \n",
    "#the size of the real-valued vector space EMBEDDING_DIM = 100,\n",
    "#and the maximum length of input documents max_length .\n",
    "vocab_size = len(tokenizer.word_index)+1\n",
    "EMBEDDING_DIM = 300\n",
    "max_length = 394"
   ]
  },
  {
   "cell_type": "code",
   "execution_count": 69,
   "id": "22a419fc",
   "metadata": {},
   "outputs": [],
   "source": [
    "model = Sequential()\n",
    "model.add(Embedding(vocab_size,\n",
    " 300,\n",
    " input_length=max_length\n",
    " ))\n",
    "model.add(Dropout(0.3))\n",
    "model.add(Conv1D(128, 5, activation=\"relu\"))\n",
    "model.add(MaxPooling1D(5))\n",
    "model.add(Dropout(0.3))\n",
    "model.add(BatchNormalization())\n",
    "model.add(Conv1D(128, 5, activation=\"relu\"))\n",
    "model.add(MaxPooling1D(5))\n",
    "model.add(Dropout(0.3))\n",
    "model.add(BatchNormalization())\n",
    "model.add(Flatten())\n",
    "model.add(Dense(128, activation=\"relu\"))\n",
    "model.add(Dense(11, activation=\"softmax\"))\n",
    "model.compile(loss='categorical_crossentropy',\n",
    " optimizer=\"rmsprop\",\n",
    " metrics=['acc'])"
   ]
  },
  {
   "cell_type": "code",
   "execution_count": 70,
   "id": "36cedc81",
   "metadata": {},
   "outputs": [
    {
     "name": "stdout",
     "output_type": "stream",
     "text": [
      "Epoch 1/8\n",
      "783/783 [==============================] - 413s 526ms/step - loss: 1.3188 - acc: 0.5677 - val_loss: 0.6011 - val_acc: 0.8249\n",
      "Epoch 2/8\n",
      "783/783 [==============================] - 402s 513ms/step - loss: 0.5830 - acc: 0.8250 - val_loss: 0.6344 - val_acc: 0.8303\n",
      "Epoch 3/8\n",
      "783/783 [==============================] - 401s 512ms/step - loss: 0.5050 - acc: 0.8497 - val_loss: 0.5935 - val_acc: 0.8409\n",
      "Epoch 4/8\n",
      "783/783 [==============================] - 402s 514ms/step - loss: 0.4487 - acc: 0.8670 - val_loss: 0.5774 - val_acc: 0.8449\n",
      "Epoch 5/8\n",
      "783/783 [==============================] - 402s 514ms/step - loss: 0.4097 - acc: 0.8773 - val_loss: 0.6006 - val_acc: 0.8446\n",
      "Epoch 6/8\n",
      "783/783 [==============================] - 408s 521ms/step - loss: 0.3693 - acc: 0.8898 - val_loss: 0.6352 - val_acc: 0.8494\n",
      "Epoch 7/8\n",
      "783/783 [==============================] - 401s 512ms/step - loss: 0.3398 - acc: 0.8986 - val_loss: 0.5898 - val_acc: 0.8561\n",
      "Epoch 8/8\n",
      "783/783 [==============================] - 404s 516ms/step - loss: 0.3226 - acc: 0.9031 - val_loss: 0.6731 - val_acc: 0.8480\n"
     ]
    }
   ],
   "source": [
    "history = model.fit(train_data, labels_train,\n",
    " batch_size=64,\n",
    " epochs=8,\n",
    " validation_data=(test_data, labels_test))"
   ]
  },
  {
   "cell_type": "code",
   "execution_count": 71,
   "id": "33038a69",
   "metadata": {},
   "outputs": [
    {
     "data": {
      "image/png": "[encoded data removed]",
      "text/plain": [
       "<Figure size 432x288 with 1 Axes>"
      ]
     },
     "metadata": {
      "needs_background": "light"
     },
     "output_type": "display_data"
    }
   ],
   "source": [
    "#plotting loss curves\n",
    "fig1 = plt.figure()\n",
    "plt.plot(history.history['loss'],'r',linewidth=3.0)\n",
    "plt.plot(history.history['val_loss'],'b',linewidth=3.0)\n",
    "plt.legend(['Training loss', 'Validation Loss'],fontsize=18)\n",
    "plt.xlabel('Epochs ',fontsize=16)\n",
    "plt.ylabel('Loss',fontsize=16)\n",
    "plt.title('Loss Curves :CNN',fontsize=16)\n",
    "plt.show()"
   ]
  },
  {
   "cell_type": "code",
   "execution_count": 72,
   "id": "81f0fdc8",
   "metadata": {},
   "outputs": [
    {
     "data": {
      "image/png": "[encoded data removed]",
      "text/plain": [
       "<Figure size 432x288 with 1 Axes>"
      ]
     },
     "metadata": {
      "needs_background": "light"
     },
     "output_type": "display_data"
    }
   ],
   "source": [
    "#plotting accuracy curves\n",
    "fig1 = plt.figure()\n",
    "plt.plot(history.history['acc'],'r',linewidth=3.0)\n",
    "plt.plot(history.history['val_acc'],'b',linewidth=3.0)\n",
    "plt.legend(['Training acc', 'Validation acc'],fontsize=18)\n",
    "plt.xlabel('Epochs ',fontsize=16)\n",
    "plt.ylabel('Accuracy',fontsize=16)\n",
    "plt.title('Accuracy Curves :CNN',fontsize=16)\n",
    "plt.show()"
   ]
  },
  {
   "cell_type": "markdown",
   "id": "70a084a0",
   "metadata": {},
   "source": [
    "### Predictions on test data"
   ]
  },
  {
   "cell_type": "code",
   "execution_count": 73,
   "id": "9d8af805",
   "metadata": {},
   "outputs": [
    {
     "data": {
      "text/plain": [
       "array([[1.41389508e-04, 2.79973894e-02, 1.16662311e-04, ...,\n",
       "        7.70196497e-01, 2.34712772e-07, 6.68755383e-04],\n",
       "       [3.23602301e-03, 3.89144583e-09, 2.31465069e-03, ...,\n",
       "        3.14144162e-11, 9.94415402e-01, 5.14443468e-13],\n",
       "       [5.57632477e-04, 4.74340231e-05, 4.58465889e-04, ...,\n",
       "        1.16497265e-08, 9.34757960e-09, 3.89273264e-05],\n",
       "       ...,\n",
       "       [1.23423524e-03, 6.21064217e-04, 2.70185709e-01, ...,\n",
       "        3.20647246e-06, 3.62554187e-04, 3.81969367e-05],\n",
       "       [3.03865294e-03, 3.91883366e-02, 1.14093468e-01, ...,\n",
       "        5.90129639e-04, 3.37590427e-05, 1.12388353e-03],\n",
       "       [2.54808590e-02, 3.61643652e-05, 4.16024923e-02, ...,\n",
       "        3.62442382e-10, 2.79001455e-07, 2.07678727e-06]], dtype=float32)"
      ]
     },
     "execution_count": 73,
     "metadata": {},
     "output_type": "execute_result"
    }
   ],
   "source": [
    "\n",
    "predicted=model.predict(test_data)\n",
    "predicted"
   ]
  },
  {
   "cell_type": "markdown",
   "id": "ebcb8020",
   "metadata": {},
   "source": [
    "### Model evaluation"
   ]
  },
  {
   "cell_type": "code",
   "execution_count": 74,
   "id": "1911735b",
   "metadata": {},
   "outputs": [
    {
     "name": "stdout",
     "output_type": "stream",
     "text": [
      "precision: [0.89806678 0.83138564 0.76371681 0.84653465 0.86314581 0.79464286\n",
      " 0.94012945 0.         0.55652174 0.79       0.9       ]\n",
      "recall: [0.71568627 0.54130435 0.87083754 0.87356322 0.85665451 0.53614458\n",
      " 0.93458445 0.         0.35164835 0.73488372 0.86278195]\n",
      "fscore: [0.79657054 0.65569454 0.81376709 0.85983658 0.85988791 0.64028777\n",
      " 0.93734875 0.         0.43097643 0.76144578 0.88099808]\n",
      "support: [1428  920 1982 3132 4388  166 3730   27  182  215  532]\n",
      "############################\n",
      "              precision    recall  f1-score   support\n",
      "\n",
      "           0       0.90      0.72      0.80      1428\n",
      "           1       0.83      0.54      0.66       920\n",
      "           2       0.76      0.87      0.81      1982\n",
      "           3       0.85      0.87      0.86      3132\n",
      "           4       0.86      0.86      0.86      4388\n",
      "           5       0.79      0.54      0.64       166\n",
      "           6       0.94      0.93      0.94      3730\n",
      "           7       0.00      0.00      0.00        27\n",
      "           8       0.56      0.35      0.43       182\n",
      "           9       0.79      0.73      0.76       215\n",
      "          10       0.90      0.86      0.88       532\n",
      "\n",
      "   micro avg       0.86      0.84      0.85     16702\n",
      "   macro avg       0.74      0.66      0.69     16702\n",
      "weighted avg       0.86      0.84      0.85     16702\n",
      " samples avg       0.84      0.84      0.84     16702\n",
      "\n"
     ]
    }
   ],
   "source": [
    "\n",
    "import sklearn\n",
    "from sklearn.metrics import precision_recall_fscore_support as score\n",
    "precision, recall, fscore, support = score(labels_test, predicted.round())\n",
    "print('precision: {}'.format(precision))\n",
    "print('recall: {}'.format(recall))\n",
    "print('fscore: {}'.format(fscore))\n",
    "print('support: {}'.format(support))\n",
    "print(\"############################\")\n",
    "print(sklearn.metrics.classification_report(labels_test, predicted.round()))"
   ]
  },
  {
   "cell_type": "markdown",
   "id": "ca55bb5f",
   "metadata": {},
   "source": [
    "## Summary\n",
    "\n",
    "#### We have trained dataset on Logistic Regression, Support Vector Machine(SVM), and CNN.\n",
    "#### The following are the results of using SVM and Logistic Regression. SVM optimises the margin  between the nearest support vectors, while logistic regression aims to increase the probability of the posterior class.\n",
    "#### SVM is deterministic (but we can use Platts model for probability score) while LR is probabilistic.\n",
    "#### For the kernel space, SVM is faster.\n",
    "\n",
    "#### In the end, we have achieved an accuracy of around 85% for Logistic Regression & Support Vector Machine(SVM) and around 86% for CNN.\n",
    "\n",
    "#### we get good results with CNN.\n",
    "\n",
    "#### From the learning curves in CNN it is clear the model needs to be tuned for overfitting by selecting hyperparameters such as no of epochs via early stopping and dropout for regularization.\n"
   ]
  },
  {
   "cell_type": "code",
   "execution_count": 2,
   "id": "f739103c",
   "metadata": {},
   "outputs": [
    {
     "name": "stdout",
     "output_type": "stream",
     "text": [
      " * Serving Flask app '__main__' (lazy loading)\n",
      " * Environment: production\n",
      "\u001b[31m   WARNING: This is a development server. Do not use it in a production deployment.\u001b[0m\n",
      "\u001b[2m   Use a production WSGI server instead.\u001b[0m\n",
      " * Debug mode: off\n"
     ]
    },
    {
     "name": "stderr",
     "output_type": "stream",
     "text": [
      " * Running on http://127.0.0.1:5000/ (Press CTRL+C to quit)\n"
     ]
    }
   ],
   "source": [
    "from flask import Flask,render_template,url_for,request\n",
    "import pandas as pd \n",
    "from sklearn.svm import LinearSVC\n",
    "import joblib\n",
    "\n",
    "\n",
    "\n",
    "app = Flask(__name__)\n",
    "\n",
    "@app.route('/')\n",
    "def home():\n",
    "    return render_template('home.html')\n",
    "\n",
    "@app.route('/predict',methods=['POST'])\n",
    "def predict():\n",
    "    pipeline = joblib.load('text_classification.joblib')\n",
    "    labels = ['Debt collection', 'Mortgage','Credit reporting', 'Credit card','Bank account or service','Consumer Loan','Student loan','Prepaid card','Payday loan','Money transfers','Other financial service']\n",
    "    my_file = open(\"Monitoring.csv\", \"a\")\n",
    "    if request.method == 'POST':\n",
    "        message = request.form['message']\n",
    "        data = [message]\n",
    "        prediction = pipeline.predict(data)\n",
    "        my_file.write(\"\\n{},\".format(str(message)))\n",
    "        my_file.write(\"{},\".format(str(labels[int(prediction)])))\n",
    "        my_file.close()\n",
    "\n",
    "        return render_template('predict.html',prediction = prediction)\n",
    "\n",
    "    \n",
    "\n",
    "\n",
    "\n",
    "if __name__ == '__main__':\n",
    "    app.run()\n"
   ]
  },
  {
   "cell_type": "code",
   "execution_count": null,
   "id": "aba43b7b",
   "metadata": {},
   "outputs": [],
   "source": [
    "!python app.py"
   ]
  }
 ],
 "metadata": {
  "kernelspec": {
   "display_name": "Python 3",
   "language": "python",
   "name": "python3"
  },
  "language_info": {
   "codemirror_mode": {
    "name": "ipython",
    "version": 3
   },
   "file_extension": ".py",
   "mimetype": "text/x-python",
   "name": "python",
   "nbconvert_exporter": "python",
   "pygments_lexer": "ipython3",
   "version": "3.7.10"
  }
 },
 "nbformat": 4,
 "nbformat_minor": 5
}
